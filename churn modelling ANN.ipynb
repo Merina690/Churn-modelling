{
 "cells": [
  {
   "cell_type": "code",
   "execution_count": 1,
   "id": "35005114",
   "metadata": {},
   "outputs": [],
   "source": [
    "import numpy as np\n",
    "import pandas as pd\n",
    "import matplotlib.pyplot as plt\n",
    "import seaborn as sns\n",
    "import tensorflow as tf"
   ]
  },
  {
   "cell_type": "code",
   "execution_count": 2,
   "id": "2913e69f",
   "metadata": {},
   "outputs": [],
   "source": [
    "df=pd.read_csv('C:\\\\Users\\\\MERINA ANGEL\\\\Downloads\\\\Churn_Modelling.csv')"
   ]
  },
  {
   "cell_type": "code",
   "execution_count": 3,
   "id": "87f01305",
   "metadata": {},
   "outputs": [
    {
     "data": {
      "text/html": [
       "<div>\n",
       "<style scoped>\n",
       "    .dataframe tbody tr th:only-of-type {\n",
       "        vertical-align: middle;\n",
       "    }\n",
       "\n",
       "    .dataframe tbody tr th {\n",
       "        vertical-align: top;\n",
       "    }\n",
       "\n",
       "    .dataframe thead th {\n",
       "        text-align: right;\n",
       "    }\n",
       "</style>\n",
       "<table border=\"1\" class=\"dataframe\">\n",
       "  <thead>\n",
       "    <tr style=\"text-align: right;\">\n",
       "      <th></th>\n",
       "      <th>RowNumber</th>\n",
       "      <th>CustomerId</th>\n",
       "      <th>Surname</th>\n",
       "      <th>CreditScore</th>\n",
       "      <th>Geography</th>\n",
       "      <th>Gender</th>\n",
       "      <th>Age</th>\n",
       "      <th>Tenure</th>\n",
       "      <th>Balance</th>\n",
       "      <th>NumOfProducts</th>\n",
       "      <th>HasCrCard</th>\n",
       "      <th>IsActiveMember</th>\n",
       "      <th>EstimatedSalary</th>\n",
       "      <th>Exited</th>\n",
       "    </tr>\n",
       "  </thead>\n",
       "  <tbody>\n",
       "    <tr>\n",
       "      <th>0</th>\n",
       "      <td>1</td>\n",
       "      <td>15634602</td>\n",
       "      <td>Hargrave</td>\n",
       "      <td>619</td>\n",
       "      <td>France</td>\n",
       "      <td>Female</td>\n",
       "      <td>42</td>\n",
       "      <td>2</td>\n",
       "      <td>0.00</td>\n",
       "      <td>1</td>\n",
       "      <td>1</td>\n",
       "      <td>1</td>\n",
       "      <td>101348.88</td>\n",
       "      <td>1</td>\n",
       "    </tr>\n",
       "    <tr>\n",
       "      <th>1</th>\n",
       "      <td>2</td>\n",
       "      <td>15647311</td>\n",
       "      <td>Hill</td>\n",
       "      <td>608</td>\n",
       "      <td>Spain</td>\n",
       "      <td>Female</td>\n",
       "      <td>41</td>\n",
       "      <td>1</td>\n",
       "      <td>83807.86</td>\n",
       "      <td>1</td>\n",
       "      <td>0</td>\n",
       "      <td>1</td>\n",
       "      <td>112542.58</td>\n",
       "      <td>0</td>\n",
       "    </tr>\n",
       "    <tr>\n",
       "      <th>2</th>\n",
       "      <td>3</td>\n",
       "      <td>15619304</td>\n",
       "      <td>Onio</td>\n",
       "      <td>502</td>\n",
       "      <td>France</td>\n",
       "      <td>Female</td>\n",
       "      <td>42</td>\n",
       "      <td>8</td>\n",
       "      <td>159660.80</td>\n",
       "      <td>3</td>\n",
       "      <td>1</td>\n",
       "      <td>0</td>\n",
       "      <td>113931.57</td>\n",
       "      <td>1</td>\n",
       "    </tr>\n",
       "    <tr>\n",
       "      <th>3</th>\n",
       "      <td>4</td>\n",
       "      <td>15701354</td>\n",
       "      <td>Boni</td>\n",
       "      <td>699</td>\n",
       "      <td>France</td>\n",
       "      <td>Female</td>\n",
       "      <td>39</td>\n",
       "      <td>1</td>\n",
       "      <td>0.00</td>\n",
       "      <td>2</td>\n",
       "      <td>0</td>\n",
       "      <td>0</td>\n",
       "      <td>93826.63</td>\n",
       "      <td>0</td>\n",
       "    </tr>\n",
       "    <tr>\n",
       "      <th>4</th>\n",
       "      <td>5</td>\n",
       "      <td>15737888</td>\n",
       "      <td>Mitchell</td>\n",
       "      <td>850</td>\n",
       "      <td>Spain</td>\n",
       "      <td>Female</td>\n",
       "      <td>43</td>\n",
       "      <td>2</td>\n",
       "      <td>125510.82</td>\n",
       "      <td>1</td>\n",
       "      <td>1</td>\n",
       "      <td>1</td>\n",
       "      <td>79084.10</td>\n",
       "      <td>0</td>\n",
       "    </tr>\n",
       "  </tbody>\n",
       "</table>\n",
       "</div>"
      ],
      "text/plain": [
       "   RowNumber  CustomerId   Surname  CreditScore Geography  Gender  Age  \\\n",
       "0          1    15634602  Hargrave          619    France  Female   42   \n",
       "1          2    15647311      Hill          608     Spain  Female   41   \n",
       "2          3    15619304      Onio          502    France  Female   42   \n",
       "3          4    15701354      Boni          699    France  Female   39   \n",
       "4          5    15737888  Mitchell          850     Spain  Female   43   \n",
       "\n",
       "   Tenure    Balance  NumOfProducts  HasCrCard  IsActiveMember  \\\n",
       "0       2       0.00              1          1               1   \n",
       "1       1   83807.86              1          0               1   \n",
       "2       8  159660.80              3          1               0   \n",
       "3       1       0.00              2          0               0   \n",
       "4       2  125510.82              1          1               1   \n",
       "\n",
       "   EstimatedSalary  Exited  \n",
       "0        101348.88       1  \n",
       "1        112542.58       0  \n",
       "2        113931.57       1  \n",
       "3         93826.63       0  \n",
       "4         79084.10       0  "
      ]
     },
     "execution_count": 3,
     "metadata": {},
     "output_type": "execute_result"
    }
   ],
   "source": [
    "df.head()"
   ]
  },
  {
   "cell_type": "code",
   "execution_count": 4,
   "id": "111744cb",
   "metadata": {},
   "outputs": [],
   "source": [
    "#tenure participant yrs\n",
    "#business probelm=client get churned or not"
   ]
  },
  {
   "cell_type": "code",
   "execution_count": 5,
   "id": "3af0af1e",
   "metadata": {},
   "outputs": [],
   "source": [
    "import os"
   ]
  },
  {
   "cell_type": "code",
   "execution_count": 6,
   "id": "f0d6c250",
   "metadata": {},
   "outputs": [],
   "source": [
    "x=df.iloc[:,3:-1].values\n",
    "y=df['Exited'].values"
   ]
  },
  {
   "cell_type": "code",
   "execution_count": 7,
   "id": "e1e693b9",
   "metadata": {},
   "outputs": [
    {
     "data": {
      "text/plain": [
       "array([[619, 'France', 'Female', ..., 1, 1, 101348.88],\n",
       "       [608, 'Spain', 'Female', ..., 0, 1, 112542.58],\n",
       "       [502, 'France', 'Female', ..., 1, 0, 113931.57],\n",
       "       ...,\n",
       "       [709, 'France', 'Female', ..., 0, 1, 42085.58],\n",
       "       [772, 'Germany', 'Male', ..., 1, 0, 92888.52],\n",
       "       [792, 'France', 'Female', ..., 1, 0, 38190.78]], dtype=object)"
      ]
     },
     "execution_count": 7,
     "metadata": {},
     "output_type": "execute_result"
    }
   ],
   "source": [
    "x"
   ]
  },
  {
   "cell_type": "code",
   "execution_count": 8,
   "id": "c27dff36",
   "metadata": {},
   "outputs": [
    {
     "data": {
      "text/plain": [
       "array([1, 0, 1, ..., 1, 1, 0], dtype=int64)"
      ]
     },
     "execution_count": 8,
     "metadata": {},
     "output_type": "execute_result"
    }
   ],
   "source": [
    "y"
   ]
  },
  {
   "cell_type": "markdown",
   "id": "cce1651a",
   "metadata": {},
   "source": [
    "# encoding the categorical data"
   ]
  },
  {
   "cell_type": "code",
   "execution_count": 9,
   "id": "47626417",
   "metadata": {},
   "outputs": [],
   "source": [
    "from sklearn.preprocessing import LabelEncoder\n",
    "le=LabelEncoder()\n",
    "x[:,2]=le.fit_transform(x[:,2])"
   ]
  },
  {
   "cell_type": "code",
   "execution_count": 10,
   "id": "a8ca55b9",
   "metadata": {},
   "outputs": [
    {
     "name": "stdout",
     "output_type": "stream",
     "text": [
      "[[619 'France' 0 ... 1 1 101348.88]\n",
      " [608 'Spain' 0 ... 0 1 112542.58]\n",
      " [502 'France' 0 ... 1 0 113931.57]\n",
      " ...\n",
      " [709 'France' 0 ... 0 1 42085.58]\n",
      " [772 'Germany' 1 ... 1 0 92888.52]\n",
      " [792 'France' 0 ... 1 0 38190.78]]\n"
     ]
    }
   ],
   "source": [
    "print(x)"
   ]
  },
  {
   "cell_type": "code",
   "execution_count": 11,
   "id": "467733fa",
   "metadata": {},
   "outputs": [],
   "source": [
    "from sklearn.compose import ColumnTransformer\n",
    "from sklearn.preprocessing import OneHotEncoder\n",
    "ct=ColumnTransformer(transformers=[(\"encoder\", OneHotEncoder(), [1])], remainder=\"passthrough\")\n",
    "x=np.array(ct.fit_transform(x))"
   ]
  },
  {
   "cell_type": "code",
   "execution_count": 12,
   "id": "d3918c2e",
   "metadata": {},
   "outputs": [
    {
     "data": {
      "text/plain": [
       "array([[1.0, 0.0, 0.0, ..., 1, 1, 101348.88],\n",
       "       [0.0, 0.0, 1.0, ..., 0, 1, 112542.58],\n",
       "       [1.0, 0.0, 0.0, ..., 1, 0, 113931.57],\n",
       "       ...,\n",
       "       [1.0, 0.0, 0.0, ..., 0, 1, 42085.58],\n",
       "       [0.0, 1.0, 0.0, ..., 1, 0, 92888.52],\n",
       "       [1.0, 0.0, 0.0, ..., 1, 0, 38190.78]], dtype=object)"
      ]
     },
     "execution_count": 12,
     "metadata": {},
     "output_type": "execute_result"
    }
   ],
   "source": [
    "x"
   ]
  },
  {
   "cell_type": "code",
   "execution_count": 13,
   "id": "74188bae",
   "metadata": {},
   "outputs": [],
   "source": [
    "from sklearn.model_selection import train_test_split\n",
    "x_train, x_test, y_train, y_test = train_test_split(x,y, test_size=0.2, random_state=9)"
   ]
  },
  {
   "cell_type": "code",
   "execution_count": 14,
   "id": "7d07cb85",
   "metadata": {},
   "outputs": [],
   "source": [
    "from sklearn.preprocessing import StandardScaler\n",
    "ss=StandardScaler()\n",
    "x_train=ss.fit_transform(x_train)\n",
    "x_test=ss.transform(x_test)"
   ]
  },
  {
   "cell_type": "markdown",
   "id": "8088ab7f",
   "metadata": {},
   "source": [
    "# building the ANN"
   ]
  },
  {
   "cell_type": "markdown",
   "id": "c8a8fffc",
   "metadata": {},
   "source": [
    "intializing the ann using sequential"
   ]
  },
  {
   "cell_type": "code",
   "execution_count": 15,
   "id": "f662717a",
   "metadata": {},
   "outputs": [],
   "source": [
    "ann=tf.keras.models.Sequential()"
   ]
  },
  {
   "cell_type": "markdown",
   "id": "c006ecc7",
   "metadata": {},
   "source": [
    "adding the input layer and hidden layer 1"
   ]
  },
  {
   "cell_type": "code",
   "execution_count": 16,
   "id": "e584d942",
   "metadata": {},
   "outputs": [],
   "source": [
    "ann.add(tf.keras.layers.Dense(units=6,activation='relu'))\n",
    "#using dense we can specify how many hidden neurons are needed"
   ]
  },
  {
   "cell_type": "markdown",
   "id": "bd56300f",
   "metadata": {},
   "source": [
    "adding hidden layer 2"
   ]
  },
  {
   "cell_type": "code",
   "execution_count": 17,
   "id": "b96ea5da",
   "metadata": {},
   "outputs": [],
   "source": [
    "ann.add(tf.keras.layers.Dense(units=6,activation='relu'))"
   ]
  },
  {
   "cell_type": "markdown",
   "id": "13e2d15b",
   "metadata": {},
   "source": [
    "adding the output layer"
   ]
  },
  {
   "cell_type": "code",
   "execution_count": 18,
   "id": "feb80db8",
   "metadata": {},
   "outputs": [],
   "source": [
    "ann.add(tf.keras.layers.Dense(units=1,activation='sigmoid'))\n",
    "#binary classification"
   ]
  },
  {
   "cell_type": "markdown",
   "id": "a00cc8db",
   "metadata": {},
   "source": [
    "# training the ANN"
   ]
  },
  {
   "cell_type": "markdown",
   "id": "5484b084",
   "metadata": {},
   "source": [
    "compiling the ANN"
   ]
  },
  {
   "cell_type": "code",
   "execution_count": 19,
   "id": "56ec1120",
   "metadata": {},
   "outputs": [],
   "source": [
    "#training the ann\n",
    "ann.compile(optimizer='adam',loss='binary_crossentropy',metrics=[{'accuracy':'accuracy'}])\n",
    "#backward propagation\n",
    "# we are saying to use this parameters\n",
    "#hyper parameter tunning==> changing the parameters to increase accuracy"
   ]
  },
  {
   "cell_type": "code",
   "execution_count": 20,
   "id": "678d8165",
   "metadata": {},
   "outputs": [],
   "source": [
    "import os"
   ]
  },
  {
   "cell_type": "markdown",
   "id": "3ac726b4",
   "metadata": {},
   "source": [
    "training the ANN on training set"
   ]
  },
  {
   "cell_type": "code",
   "execution_count": 21,
   "id": "4cbd8ca6",
   "metadata": {},
   "outputs": [
    {
     "name": "stdout",
     "output_type": "stream",
     "text": [
      "Epoch 1/100\n",
      "536/536 [==============================] - 1s 1ms/step - loss: 0.5333 - accuracy: 0.7602 - val_loss: 0.4653 - val_accuracy: 0.8008\n",
      "Epoch 2/100\n",
      "536/536 [==============================] - 1s 1ms/step - loss: 0.4535 - accuracy: 0.7972 - val_loss: 0.4368 - val_accuracy: 0.8023\n",
      "Epoch 3/100\n",
      "536/536 [==============================] - 1s 1ms/step - loss: 0.4299 - accuracy: 0.8024 - val_loss: 0.4198 - val_accuracy: 0.8198\n",
      "Epoch 4/100\n",
      "536/536 [==============================] - 1s 2ms/step - loss: 0.4111 - accuracy: 0.8182 - val_loss: 0.4034 - val_accuracy: 0.8232\n",
      "Epoch 5/100\n",
      "536/536 [==============================] - 1s 2ms/step - loss: 0.3907 - accuracy: 0.8306 - val_loss: 0.3844 - val_accuracy: 0.8357\n",
      "Epoch 6/100\n",
      "536/536 [==============================] - 1s 2ms/step - loss: 0.3749 - accuracy: 0.8384 - val_loss: 0.3718 - val_accuracy: 0.8425\n",
      "Epoch 7/100\n",
      "536/536 [==============================] - 1s 2ms/step - loss: 0.3652 - accuracy: 0.8410 - val_loss: 0.3647 - val_accuracy: 0.8470\n",
      "Epoch 8/100\n",
      "536/536 [==============================] - 1s 2ms/step - loss: 0.3607 - accuracy: 0.8440 - val_loss: 0.3641 - val_accuracy: 0.8444\n",
      "Epoch 9/100\n",
      "536/536 [==============================] - 1s 2ms/step - loss: 0.3576 - accuracy: 0.8461 - val_loss: 0.3594 - val_accuracy: 0.8493\n",
      "Epoch 10/100\n",
      "536/536 [==============================] - 1s 2ms/step - loss: 0.3551 - accuracy: 0.8483 - val_loss: 0.3570 - val_accuracy: 0.8489\n",
      "Epoch 11/100\n",
      "536/536 [==============================] - 1s 2ms/step - loss: 0.3528 - accuracy: 0.8475 - val_loss: 0.3561 - val_accuracy: 0.8489\n",
      "Epoch 12/100\n",
      "536/536 [==============================] - 1s 2ms/step - loss: 0.3514 - accuracy: 0.8518 - val_loss: 0.3559 - val_accuracy: 0.8493\n",
      "Epoch 13/100\n",
      "536/536 [==============================] - 1s 2ms/step - loss: 0.3496 - accuracy: 0.8517 - val_loss: 0.3542 - val_accuracy: 0.8508\n",
      "Epoch 14/100\n",
      "536/536 [==============================] - 1s 2ms/step - loss: 0.3484 - accuracy: 0.8531 - val_loss: 0.3539 - val_accuracy: 0.8485\n",
      "Epoch 15/100\n",
      "536/536 [==============================] - 1s 2ms/step - loss: 0.3476 - accuracy: 0.8561 - val_loss: 0.3549 - val_accuracy: 0.8493\n",
      "Epoch 16/100\n",
      "536/536 [==============================] - 1s 2ms/step - loss: 0.3466 - accuracy: 0.8546 - val_loss: 0.3528 - val_accuracy: 0.8501\n",
      "Epoch 17/100\n",
      "536/536 [==============================] - 1s 2ms/step - loss: 0.3457 - accuracy: 0.8558 - val_loss: 0.3524 - val_accuracy: 0.8538\n",
      "Epoch 18/100\n",
      "536/536 [==============================] - 1s 2ms/step - loss: 0.3453 - accuracy: 0.8546 - val_loss: 0.3511 - val_accuracy: 0.8554\n",
      "Epoch 19/100\n",
      "536/536 [==============================] - 1s 2ms/step - loss: 0.3446 - accuracy: 0.8545 - val_loss: 0.3513 - val_accuracy: 0.8516\n",
      "Epoch 20/100\n",
      "536/536 [==============================] - 1s 2ms/step - loss: 0.3439 - accuracy: 0.8578 - val_loss: 0.3508 - val_accuracy: 0.8523\n",
      "Epoch 21/100\n",
      "536/536 [==============================] - 1s 1ms/step - loss: 0.3437 - accuracy: 0.8559 - val_loss: 0.3506 - val_accuracy: 0.8546\n",
      "Epoch 22/100\n",
      "536/536 [==============================] - 1s 1ms/step - loss: 0.3428 - accuracy: 0.8563 - val_loss: 0.3517 - val_accuracy: 0.8516\n",
      "Epoch 23/100\n",
      "536/536 [==============================] - 1s 2ms/step - loss: 0.3421 - accuracy: 0.8593 - val_loss: 0.3502 - val_accuracy: 0.8550\n",
      "Epoch 24/100\n",
      "536/536 [==============================] - 1s 2ms/step - loss: 0.3418 - accuracy: 0.8580 - val_loss: 0.3494 - val_accuracy: 0.8535\n",
      "Epoch 25/100\n",
      "536/536 [==============================] - 1s 2ms/step - loss: 0.3410 - accuracy: 0.8584 - val_loss: 0.3521 - val_accuracy: 0.8527\n",
      "Epoch 26/100\n",
      "536/536 [==============================] - 1s 1ms/step - loss: 0.3406 - accuracy: 0.8580 - val_loss: 0.3482 - val_accuracy: 0.8550\n",
      "Epoch 27/100\n",
      "536/536 [==============================] - 1s 2ms/step - loss: 0.3404 - accuracy: 0.8600 - val_loss: 0.3485 - val_accuracy: 0.8565\n",
      "Epoch 28/100\n",
      "536/536 [==============================] - 1s 2ms/step - loss: 0.3402 - accuracy: 0.8617 - val_loss: 0.3482 - val_accuracy: 0.8565\n",
      "Epoch 29/100\n",
      "536/536 [==============================] - 1s 2ms/step - loss: 0.3389 - accuracy: 0.8584 - val_loss: 0.3492 - val_accuracy: 0.8542\n",
      "Epoch 30/100\n",
      "536/536 [==============================] - 1s 2ms/step - loss: 0.3392 - accuracy: 0.8610 - val_loss: 0.3480 - val_accuracy: 0.8561\n",
      "Epoch 31/100\n",
      "536/536 [==============================] - 1s 2ms/step - loss: 0.3386 - accuracy: 0.8602 - val_loss: 0.3486 - val_accuracy: 0.8573\n",
      "Epoch 32/100\n",
      "536/536 [==============================] - 1s 2ms/step - loss: 0.3375 - accuracy: 0.8621 - val_loss: 0.3493 - val_accuracy: 0.8554\n",
      "Epoch 33/100\n",
      "536/536 [==============================] - 1s 2ms/step - loss: 0.3379 - accuracy: 0.8587 - val_loss: 0.3485 - val_accuracy: 0.8557\n",
      "Epoch 34/100\n",
      "536/536 [==============================] - 1s 2ms/step - loss: 0.3378 - accuracy: 0.8599 - val_loss: 0.3477 - val_accuracy: 0.8565\n",
      "Epoch 35/100\n",
      "536/536 [==============================] - 1s 1ms/step - loss: 0.3370 - accuracy: 0.8614 - val_loss: 0.3479 - val_accuracy: 0.8557\n",
      "Epoch 36/100\n",
      "536/536 [==============================] - 1s 2ms/step - loss: 0.3369 - accuracy: 0.8599 - val_loss: 0.3496 - val_accuracy: 0.8531\n",
      "Epoch 37/100\n",
      "536/536 [==============================] - 1s 2ms/step - loss: 0.3367 - accuracy: 0.8599 - val_loss: 0.3485 - val_accuracy: 0.8561\n",
      "Epoch 38/100\n",
      "536/536 [==============================] - 1s 2ms/step - loss: 0.3367 - accuracy: 0.8610 - val_loss: 0.3489 - val_accuracy: 0.8580\n",
      "Epoch 39/100\n",
      "536/536 [==============================] - 1s 2ms/step - loss: 0.3363 - accuracy: 0.8615 - val_loss: 0.3484 - val_accuracy: 0.8546\n",
      "Epoch 40/100\n",
      "536/536 [==============================] - 1s 2ms/step - loss: 0.3361 - accuracy: 0.8610 - val_loss: 0.3504 - val_accuracy: 0.8554\n",
      "Epoch 41/100\n",
      "536/536 [==============================] - 1s 2ms/step - loss: 0.3360 - accuracy: 0.8632 - val_loss: 0.3494 - val_accuracy: 0.8569\n",
      "Epoch 42/100\n",
      "536/536 [==============================] - 1s 1ms/step - loss: 0.3359 - accuracy: 0.8627 - val_loss: 0.3501 - val_accuracy: 0.8538\n",
      "Epoch 43/100\n",
      "536/536 [==============================] - 1s 2ms/step - loss: 0.3354 - accuracy: 0.8617 - val_loss: 0.3493 - val_accuracy: 0.8550\n",
      "Epoch 44/100\n",
      "536/536 [==============================] - 1s 2ms/step - loss: 0.3347 - accuracy: 0.8630 - val_loss: 0.3500 - val_accuracy: 0.8557\n",
      "Epoch 45/100\n",
      "536/536 [==============================] - 1s 1ms/step - loss: 0.3355 - accuracy: 0.8612 - val_loss: 0.3484 - val_accuracy: 0.8550\n",
      "Epoch 46/100\n",
      "536/536 [==============================] - 1s 2ms/step - loss: 0.3341 - accuracy: 0.8645 - val_loss: 0.3499 - val_accuracy: 0.8569\n",
      "Epoch 47/100\n",
      "536/536 [==============================] - 1s 2ms/step - loss: 0.3344 - accuracy: 0.8630 - val_loss: 0.3503 - val_accuracy: 0.8557\n",
      "Epoch 48/100\n",
      "536/536 [==============================] - 1s 2ms/step - loss: 0.3341 - accuracy: 0.8619 - val_loss: 0.3499 - val_accuracy: 0.8550\n",
      "Epoch 49/100\n",
      "536/536 [==============================] - 1s 2ms/step - loss: 0.3344 - accuracy: 0.8610 - val_loss: 0.3482 - val_accuracy: 0.8580\n",
      "Epoch 50/100\n",
      "536/536 [==============================] - 1s 2ms/step - loss: 0.3339 - accuracy: 0.8630 - val_loss: 0.3494 - val_accuracy: 0.8569\n",
      "Epoch 51/100\n",
      "536/536 [==============================] - 1s 2ms/step - loss: 0.3342 - accuracy: 0.8630 - val_loss: 0.3512 - val_accuracy: 0.8565\n",
      "Epoch 52/100\n",
      "536/536 [==============================] - 1s 1ms/step - loss: 0.3336 - accuracy: 0.8625 - val_loss: 0.3481 - val_accuracy: 0.8561\n",
      "Epoch 53/100\n",
      "536/536 [==============================] - 1s 2ms/step - loss: 0.3337 - accuracy: 0.8640 - val_loss: 0.3505 - val_accuracy: 0.8573\n",
      "Epoch 54/100\n",
      "536/536 [==============================] - 1s 1ms/step - loss: 0.3332 - accuracy: 0.8636 - val_loss: 0.3498 - val_accuracy: 0.8573\n",
      "Epoch 55/100\n",
      "536/536 [==============================] - 1s 1ms/step - loss: 0.3329 - accuracy: 0.8640 - val_loss: 0.3484 - val_accuracy: 0.8557\n",
      "Epoch 56/100\n",
      "536/536 [==============================] - 1s 2ms/step - loss: 0.3326 - accuracy: 0.8656 - val_loss: 0.3499 - val_accuracy: 0.8557\n",
      "Epoch 57/100\n",
      "536/536 [==============================] - 1s 2ms/step - loss: 0.3326 - accuracy: 0.8638 - val_loss: 0.3483 - val_accuracy: 0.8565\n",
      "Epoch 58/100\n",
      "536/536 [==============================] - 1s 2ms/step - loss: 0.3318 - accuracy: 0.8636 - val_loss: 0.3482 - val_accuracy: 0.8565\n",
      "Epoch 59/100\n",
      "536/536 [==============================] - 1s 2ms/step - loss: 0.3325 - accuracy: 0.8653 - val_loss: 0.3487 - val_accuracy: 0.8557\n",
      "Epoch 60/100\n",
      "536/536 [==============================] - 1s 2ms/step - loss: 0.3327 - accuracy: 0.8640 - val_loss: 0.3489 - val_accuracy: 0.8588\n",
      "Epoch 61/100\n",
      "536/536 [==============================] - 1s 1ms/step - loss: 0.3321 - accuracy: 0.8647 - val_loss: 0.3503 - val_accuracy: 0.8561\n",
      "Epoch 62/100\n",
      "536/536 [==============================] - 1s 2ms/step - loss: 0.3320 - accuracy: 0.8632 - val_loss: 0.3503 - val_accuracy: 0.8538\n",
      "Epoch 63/100\n",
      "536/536 [==============================] - 1s 2ms/step - loss: 0.3323 - accuracy: 0.8642 - val_loss: 0.3488 - val_accuracy: 0.8569\n",
      "Epoch 64/100\n",
      "536/536 [==============================] - 1s 2ms/step - loss: 0.3320 - accuracy: 0.8666 - val_loss: 0.3503 - val_accuracy: 0.8542\n",
      "Epoch 65/100\n",
      "536/536 [==============================] - 1s 2ms/step - loss: 0.3320 - accuracy: 0.8662 - val_loss: 0.3486 - val_accuracy: 0.8561\n",
      "Epoch 66/100\n",
      "536/536 [==============================] - 1s 1ms/step - loss: 0.3314 - accuracy: 0.8662 - val_loss: 0.3505 - val_accuracy: 0.8573\n",
      "Epoch 67/100\n",
      "536/536 [==============================] - 1s 2ms/step - loss: 0.3310 - accuracy: 0.8621 - val_loss: 0.3499 - val_accuracy: 0.8573\n",
      "Epoch 68/100\n",
      "536/536 [==============================] - 1s 2ms/step - loss: 0.3315 - accuracy: 0.8655 - val_loss: 0.3498 - val_accuracy: 0.8542\n",
      "Epoch 69/100\n",
      "536/536 [==============================] - 1s 2ms/step - loss: 0.3313 - accuracy: 0.8643 - val_loss: 0.3488 - val_accuracy: 0.8565\n",
      "Epoch 70/100\n",
      "536/536 [==============================] - 1s 2ms/step - loss: 0.3314 - accuracy: 0.8649 - val_loss: 0.3476 - val_accuracy: 0.8561\n",
      "Epoch 71/100\n",
      "536/536 [==============================] - 1s 2ms/step - loss: 0.3309 - accuracy: 0.8655 - val_loss: 0.3486 - val_accuracy: 0.8557\n",
      "Epoch 72/100\n",
      "536/536 [==============================] - 1s 2ms/step - loss: 0.3312 - accuracy: 0.8645 - val_loss: 0.3484 - val_accuracy: 0.8576\n",
      "Epoch 73/100\n",
      "536/536 [==============================] - 1s 2ms/step - loss: 0.3301 - accuracy: 0.8640 - val_loss: 0.3489 - val_accuracy: 0.8569\n",
      "Epoch 74/100\n",
      "536/536 [==============================] - 1s 2ms/step - loss: 0.3308 - accuracy: 0.8660 - val_loss: 0.3487 - val_accuracy: 0.8554\n",
      "Epoch 75/100\n",
      "536/536 [==============================] - 1s 2ms/step - loss: 0.3308 - accuracy: 0.8656 - val_loss: 0.3491 - val_accuracy: 0.8535\n",
      "Epoch 76/100\n",
      "536/536 [==============================] - 1s 2ms/step - loss: 0.3303 - accuracy: 0.8643 - val_loss: 0.3509 - val_accuracy: 0.8565\n",
      "Epoch 77/100\n",
      "536/536 [==============================] - 1s 2ms/step - loss: 0.3307 - accuracy: 0.8653 - val_loss: 0.3491 - val_accuracy: 0.8546\n",
      "Epoch 78/100\n",
      "536/536 [==============================] - 1s 2ms/step - loss: 0.3306 - accuracy: 0.8638 - val_loss: 0.3527 - val_accuracy: 0.8546\n",
      "Epoch 79/100\n",
      "536/536 [==============================] - 1s 2ms/step - loss: 0.3307 - accuracy: 0.8651 - val_loss: 0.3516 - val_accuracy: 0.8546\n",
      "Epoch 80/100\n",
      "536/536 [==============================] - 1s 2ms/step - loss: 0.3306 - accuracy: 0.8671 - val_loss: 0.3489 - val_accuracy: 0.8531\n",
      "Epoch 81/100\n",
      "536/536 [==============================] - 1s 2ms/step - loss: 0.3301 - accuracy: 0.8662 - val_loss: 0.3491 - val_accuracy: 0.8561\n",
      "Epoch 82/100\n",
      "536/536 [==============================] - 1s 2ms/step - loss: 0.3307 - accuracy: 0.8636 - val_loss: 0.3497 - val_accuracy: 0.8546\n",
      "Epoch 83/100\n",
      "536/536 [==============================] - 1s 2ms/step - loss: 0.3304 - accuracy: 0.8651 - val_loss: 0.3491 - val_accuracy: 0.8542\n",
      "Epoch 84/100\n",
      "536/536 [==============================] - 1s 2ms/step - loss: 0.3306 - accuracy: 0.8636 - val_loss: 0.3498 - val_accuracy: 0.8561\n",
      "Epoch 85/100\n",
      "536/536 [==============================] - 1s 2ms/step - loss: 0.3302 - accuracy: 0.8645 - val_loss: 0.3518 - val_accuracy: 0.8569\n",
      "Epoch 86/100\n",
      "536/536 [==============================] - 1s 2ms/step - loss: 0.3310 - accuracy: 0.8640 - val_loss: 0.3488 - val_accuracy: 0.8535\n",
      "Epoch 87/100\n",
      "536/536 [==============================] - 1s 3ms/step - loss: 0.3297 - accuracy: 0.8656 - val_loss: 0.3528 - val_accuracy: 0.8550\n",
      "Epoch 88/100\n",
      "536/536 [==============================] - 1s 2ms/step - loss: 0.3300 - accuracy: 0.8638 - val_loss: 0.3508 - val_accuracy: 0.8535\n",
      "Epoch 89/100\n",
      "536/536 [==============================] - 1s 2ms/step - loss: 0.3294 - accuracy: 0.8666 - val_loss: 0.3491 - val_accuracy: 0.8542\n",
      "Epoch 90/100\n",
      "536/536 [==============================] - 1s 2ms/step - loss: 0.3299 - accuracy: 0.8651 - val_loss: 0.3527 - val_accuracy: 0.8542\n",
      "Epoch 91/100\n",
      "536/536 [==============================] - 1s 2ms/step - loss: 0.3306 - accuracy: 0.8645 - val_loss: 0.3501 - val_accuracy: 0.8565\n",
      "Epoch 92/100\n",
      "536/536 [==============================] - 1s 2ms/step - loss: 0.3300 - accuracy: 0.8658 - val_loss: 0.3503 - val_accuracy: 0.8546\n",
      "Epoch 93/100\n",
      "536/536 [==============================] - 1s 2ms/step - loss: 0.3300 - accuracy: 0.8656 - val_loss: 0.3482 - val_accuracy: 0.8580\n",
      "Epoch 94/100\n",
      "536/536 [==============================] - 1s 2ms/step - loss: 0.3301 - accuracy: 0.8640 - val_loss: 0.3517 - val_accuracy: 0.8546\n",
      "Epoch 95/100\n",
      "536/536 [==============================] - 1s 2ms/step - loss: 0.3296 - accuracy: 0.8642 - val_loss: 0.3510 - val_accuracy: 0.8557\n",
      "Epoch 96/100\n",
      "536/536 [==============================] - 1s 2ms/step - loss: 0.3297 - accuracy: 0.8651 - val_loss: 0.3498 - val_accuracy: 0.8569\n",
      "Epoch 97/100\n",
      "536/536 [==============================] - 1s 2ms/step - loss: 0.3296 - accuracy: 0.8651 - val_loss: 0.3498 - val_accuracy: 0.8580\n",
      "Epoch 98/100\n",
      "536/536 [==============================] - 1s 2ms/step - loss: 0.3300 - accuracy: 0.8636 - val_loss: 0.3482 - val_accuracy: 0.8569\n",
      "Epoch 99/100\n",
      "536/536 [==============================] - 1s 2ms/step - loss: 0.3296 - accuracy: 0.8666 - val_loss: 0.3477 - val_accuracy: 0.8538\n",
      "Epoch 100/100\n",
      "536/536 [==============================] - 1s 2ms/step - loss: 0.3306 - accuracy: 0.8670 - val_loss: 0.3477 - val_accuracy: 0.8554\n"
     ]
    },
    {
     "data": {
      "text/plain": [
       "<keras.callbacks.History at 0x1a2695574c0>"
      ]
     },
     "execution_count": 21,
     "metadata": {},
     "output_type": "execute_result"
    }
   ],
   "source": [
    "ann.fit(x_train,y_train,validation_split=0.33,batch_size=10,epochs=100)"
   ]
  },
  {
   "cell_type": "code",
   "execution_count": 22,
   "id": "fc5cf4bb",
   "metadata": {},
   "outputs": [],
   "source": [
    "#batch -->batching\n",
    "#epoch-->iterations in which we are passsing all the batches"
   ]
  },
  {
   "cell_type": "code",
   "execution_count": 23,
   "id": "9442e3cd",
   "metadata": {},
   "outputs": [
    {
     "name": "stdout",
     "output_type": "stream",
     "text": [
      "1/1 [==============================] - 0s 88ms/step\n"
     ]
    },
    {
     "data": {
      "text/plain": [
       "array([[False]])"
      ]
     },
     "execution_count": 23,
     "metadata": {},
     "output_type": "execute_result"
    }
   ],
   "source": [
    "ann.predict(ss.transform([[1,0,0,600,1,40,3,60000,2,1,1,50000]]))>0.5\n",
    "#prediction to give credit card or not to give\n",
    "#o.5 is a threshold\n",
    "#training data prediction is done on standardscaler"
   ]
  },
  {
   "cell_type": "markdown",
   "id": "71460c32",
   "metadata": {},
   "source": [
    "# prediction on test results"
   ]
  },
  {
   "cell_type": "code",
   "execution_count": 24,
   "id": "9d3218ae",
   "metadata": {},
   "outputs": [
    {
     "name": "stdout",
     "output_type": "stream",
     "text": [
      "63/63 [==============================] - 0s 1ms/step\n"
     ]
    }
   ],
   "source": [
    "y_pred=ann.predict(x_test)\n",
    "y_pred=(y_pred>=0.5)"
   ]
  },
  {
   "cell_type": "code",
   "execution_count": 25,
   "id": "9b4f12f1",
   "metadata": {},
   "outputs": [],
   "source": [
    "y_pred=(y_pred>0.5)"
   ]
  },
  {
   "cell_type": "code",
   "execution_count": 26,
   "id": "e0b23c7f",
   "metadata": {},
   "outputs": [
    {
     "name": "stdout",
     "output_type": "stream",
     "text": [
      "[[0 0]\n",
      " [0 0]\n",
      " [0 1]\n",
      " ...\n",
      " [0 0]\n",
      " [0 0]\n",
      " [0 0]]\n"
     ]
    }
   ],
   "source": [
    "print(np.concatenate((y_pred.reshape(len(y_pred),1), y_test.reshape(len(y_test),1)),1))"
   ]
  },
  {
   "cell_type": "code",
   "execution_count": 27,
   "id": "6691e30c",
   "metadata": {},
   "outputs": [],
   "source": [
    "from sklearn.metrics import confusion_matrix,accuracy_score"
   ]
  },
  {
   "cell_type": "code",
   "execution_count": 28,
   "id": "e6b0a582",
   "metadata": {},
   "outputs": [
    {
     "data": {
      "text/plain": [
       "array([[1523,  225],\n",
       "       [  55,  197]], dtype=int64)"
      ]
     },
     "execution_count": 28,
     "metadata": {},
     "output_type": "execute_result"
    }
   ],
   "source": [
    "confusion_matrix(y_pred,y_test)"
   ]
  },
  {
   "cell_type": "code",
   "execution_count": 29,
   "id": "9efc063d",
   "metadata": {},
   "outputs": [
    {
     "data": {
      "text/plain": [
       "0.86"
      ]
     },
     "execution_count": 29,
     "metadata": {},
     "output_type": "execute_result"
    }
   ],
   "source": [
    "accuracy_score(y_pred,y_test)"
   ]
  },
  {
   "cell_type": "code",
   "execution_count": null,
   "id": "2a810c57",
   "metadata": {},
   "outputs": [],
   "source": []
  }
 ],
 "metadata": {
  "kernelspec": {
   "display_name": "Python 3 (ipykernel)",
   "language": "python",
   "name": "python3"
  },
  "language_info": {
   "codemirror_mode": {
    "name": "ipython",
    "version": 3
   },
   "file_extension": ".py",
   "mimetype": "text/x-python",
   "name": "python",
   "nbconvert_exporter": "python",
   "pygments_lexer": "ipython3",
   "version": "3.10.4"
  }
 },
 "nbformat": 4,
 "nbformat_minor": 5
}
